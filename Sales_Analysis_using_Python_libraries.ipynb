{
  "nbformat": 4,
  "nbformat_minor": 0,
  "metadata": {
    "colab": {
      "private_outputs": true,
      "provenance": []
    },
    "kernelspec": {
      "name": "python3",
      "display_name": "Python 3"
    },
    "language_info": {
      "name": "python"
    }
  },
  "cells": [
    {
      "cell_type": "code",
      "execution_count": null,
      "metadata": {
        "id": "FDlDBkvPZXHx"
      },
      "outputs": [],
      "source": [
        "import warnings\n",
        "warnings.simplefilter(action='ignore',category=FutureWarning)\n",
        "import pandas as pd\n",
        "import numpy as np\n",
        "import seaborn as sns\n",
        "import matplotlib.pyplot as plt\n",
        "import plotly.express as px"
      ]
    },
    {
      "cell_type": "markdown",
      "source": [
        "#Loading Data"
      ],
      "metadata": {
        "id": "OGwu6Q5C0Vc0"
      }
    },
    {
      "cell_type": "code",
      "source": [
        "data=pd.read_csv('/content/sales_data_sample.csv',encoding=('ISO-8859-1'),index_col=0)\n",
        "data.head()"
      ],
      "metadata": {
        "id": "wpThse7EZiOE"
      },
      "execution_count": null,
      "outputs": []
    },
    {
      "cell_type": "markdown",
      "source": [
        "#EDA"
      ],
      "metadata": {
        "id": "RcOXuAmM0aCO"
      }
    },
    {
      "cell_type": "code",
      "source": [
        "data.info()"
      ],
      "metadata": {
        "id": "1wnn46C_adli"
      },
      "execution_count": null,
      "outputs": []
    },
    {
      "cell_type": "code",
      "source": [
        "data.drop(['ORDERLINENUMBER','STATUS','PRODUCTCODE','PHONE','STATE',\n",
        "           'POSTALCODE', 'TERRITORY', 'CONTACTFIRSTNAME', 'CONTACTLASTNAME'], axis=1, inplace=True)\n",
        "data.head(10)"
      ],
      "metadata": {
        "id": "nQepaZSval3j"
      },
      "execution_count": null,
      "outputs": []
    },
    {
      "cell_type": "code",
      "source": [
        "data[\"ADDRESS\"] = data[\"ADDRESSLINE1\"].fillna(' ') + \"  \" + data[\"ADDRESSLINE2\"].fillna('')\n",
        "data.drop(['ADDRESSLINE1','ADDRESSLINE2'], axis=1, inplace=True)\n",
        "data.head(20)"
      ],
      "metadata": {
        "id": "9DzaPdwya91-"
      },
      "execution_count": null,
      "outputs": []
    },
    {
      "cell_type": "code",
      "source": [
        "data['ORDERDATE'] = pd.to_datetime(data['ORDERDATE'])\n",
        "data['ORDERDATE'] = pd.to_datetime(data['ORDERDATE']).astype(np.int64)\n",
        "data.head(20)"
      ],
      "metadata": {
        "id": "1mSLMB8QbgIG"
      },
      "execution_count": null,
      "outputs": []
    },
    {
      "cell_type": "code",
      "source": [
        "nan_df=data[data.isna().any(axis=1)]\n",
        "nan_df.head(20)"
      ],
      "metadata": {
        "id": "0UDvTEYYcFSs"
      },
      "execution_count": null,
      "outputs": []
    },
    {
      "cell_type": "code",
      "source": [
        "data.duplicated( keep='first').sum()"
      ],
      "metadata": {
        "id": "iXO2NKGOcUVv"
      },
      "execution_count": null,
      "outputs": []
    },
    {
      "cell_type": "code",
      "source": [
        "data.describe()"
      ],
      "metadata": {
        "id": "y6bHvhHBhWUU"
      },
      "execution_count": null,
      "outputs": []
    },
    {
      "cell_type": "markdown",
      "source": [
        "#Q1: What is monthly sales of each financial year?"
      ],
      "metadata": {
        "id": "3Q0zwslgiqOW"
      }
    },
    {
      "cell_type": "code",
      "source": [
        "monthly_sales=data.groupby(['YEAR_ID','MONTH_ID'])['SALES'].sum().reset_index()\n",
        "monthly_sales.head(20)"
      ],
      "metadata": {
        "id": "ph_ybSAKisa2"
      },
      "execution_count": null,
      "outputs": []
    },
    {
      "cell_type": "code",
      "source": [
        "plt.figure(figsize=(10,6))\n",
        "plt.title(\"MONTHLY SALES\")\n",
        "a= sns.lineplot(x='MONTH_ID',y='SALES',data=data,hue='YEAR_ID',palette='dark',errorbar=None,)\n",
        "sns.set_style('whitegrid')\n",
        "\n",
        "plt.xlabel('MONTHS')\n",
        "plt.ylabel('SALES')\n",
        "plt.legend(prop={'size': 15})  # adjust the legend size\n",
        "\n",
        "a.set_xticks([0,1,2,3,4,5,6,7,8,9,10,11,12])    # to specifically adjust x-axis\n",
        "plt.show()"
      ],
      "metadata": {
        "id": "-pCY4oeIjX_J"
      },
      "execution_count": null,
      "outputs": []
    },
    {
      "cell_type": "markdown",
      "source": [
        "Observations:\n",
        "\n",
        "1. The sales data from 2003 highlights May (5th) as the month with the lowest sales, while July (7th) emerged with the highest monthly sales.\n",
        "\n",
        "2. Examining the sales records for 2004 reveals that April (4th) experienced the lowest sales, whereas May (5th) stood out with the highest monthly sales.\n",
        "\n",
        "3. Turning to 2005, January (1st) recorded the least sales, contrasted with April (4th) securing the position for the month with the highest monthly sales.\n",
        "\n",
        "4. These observations suggest a recurring pattern, indicating that sales tend to peak during the summer months, while just before this period, the lowest sales figures are observed."
      ],
      "metadata": {
        "id": "FqhuKa2ulyZp"
      }
    },
    {
      "cell_type": "markdown",
      "source": [
        "#Q2: What is the best year according to sales?\n"
      ],
      "metadata": {
        "id": "R41wh-kUm8z4"
      }
    },
    {
      "cell_type": "code",
      "source": [
        "yearly_sales=data.groupby(['YEAR_ID'])['SALES'].sum().reset_index()\n",
        "yearly_sales"
      ],
      "metadata": {
        "id": "4_1iDTKgmw7h"
      },
      "execution_count": null,
      "outputs": []
    },
    {
      "cell_type": "code",
      "source": [
        "plt.figure(figsize=(7,5))\n",
        "plt.title(\"YEARLY SALES\") # add title\n",
        "plt.xlabel('YEARS')\n",
        "plt.ylabel('SALES (IN MILLIONS)')\n",
        "\n",
        "z= sns.barplot(x='YEAR_ID',y='SALES',data=yearly_sales,hue='YEAR_ID',palette='mako',edgecolor='black', dodge=False, width= 0.3)\n",
        "sns.set_style('darkgrid')\n",
        "\n",
        "tb = ['3.51M','4.72M','1.79M']\n",
        "z.bar_label(z.containers[0], labels=tb, padding=3) # labelling the first bar with a distance of 3 from the bar\n",
        "z.bar_label(z.containers[1], labels=tb, padding=3)\n",
        "z.bar_label(z.containers[2], labels=tb, padding=3)\n",
        "\n",
        "plt.legend(prop={'size': 12})\n",
        "plt.show()\n"
      ],
      "metadata": {
        "id": "MP36X3HjmE9C"
      },
      "execution_count": null,
      "outputs": []
    },
    {
      "cell_type": "markdown",
      "source": [
        "Observations:\n",
        "\n",
        "1.The sales data for 2003 indicates a total of approximately 3.5 million units.\n",
        "\n",
        "2.Moving into 2004, there was a noticeable increase with sales reaching around 4.7 million units.\n",
        "\n",
        "3.By 2005, within just 5 months, sales had already reached an impressive 1.8 million units.\n",
        "\n",
        "4.These figures illustrate a consistent and progressive growth trend in sales over the specified years"
      ],
      "metadata": {
        "id": "WWl3cB5PnmnV"
      }
    },
    {
      "cell_type": "markdown",
      "source": [
        "#Q3: Which quarter is the best for each product line?"
      ],
      "metadata": {
        "id": "ACCGq_6BpMYF"
      }
    },
    {
      "cell_type": "code",
      "source": [
        "quarter = data.groupby(['PRODUCTLINE']).QTR_ID.value_counts().reset_index(name='COUNTS')\n",
        "quarter.head(10)"
      ],
      "metadata": {
        "id": "fuR4tQdLpL3z"
      },
      "execution_count": null,
      "outputs": []
    },
    {
      "cell_type": "code",
      "source": [
        "# Set the width and height of the figure\n",
        "plt.figure(figsize=(9,6))\n",
        "\n",
        "kwargs  =   {'edgecolor':\"black\", 'linewidth':1} #applying colors to the edge dots\n",
        "\n",
        "sns.stripplot(x='PRODUCTLINE',y='COUNTS',data=quarter,hue='QTR_ID',palette='bright',size=14,**kwargs)\n",
        "sns.set_style('whitegrid') # Setting the background\n",
        "\n",
        "plt.title(\"PRODUCTS SOLD ACCORDING TO QUARTER\") # add title\n",
        "plt.xlabel('PRODUCTS')\n",
        "plt.ylabel('NUMBER OF ITEMS SOLD')\n",
        "plt.show()"
      ],
      "metadata": {
        "id": "byXvOnNkpW-i"
      },
      "execution_count": null,
      "outputs": []
    },
    {
      "cell_type": "markdown",
      "source": [
        "Observations:\n",
        "\n",
        "Notably, during the 4th quarter of each year, all products experienced their peak sales.\n",
        "\n",
        "This surge in sales during the final quarter may be attributed to the anticipation and celebration of Christmas holidays, suggesting a seasonal influence on consumer purchasing behavior."
      ],
      "metadata": {
        "id": "xaUE0BLTplNo"
      }
    },
    {
      "cell_type": "markdown",
      "source": [
        "#Q4: What product sold the most? Why do you think it sold the most?"
      ],
      "metadata": {
        "id": "AoMnD1upp2vn"
      }
    },
    {
      "cell_type": "code",
      "source": [
        "products = data.groupby(['PRODUCTLINE'])['SALES'].sum().reset_index()\n",
        "price = data.groupby(['PRODUCTLINE'])['MSRP'].min().reset_index()   # MSRP = Manufacturer’s Suggested Retail Price\n",
        "result=pd.merge(products,price)\n",
        "result"
      ],
      "metadata": {
        "id": "eqkb0HbHp6Tl"
      },
      "execution_count": null,
      "outputs": []
    },
    {
      "cell_type": "code",
      "source": [
        "# Set the width and height of the figure\n",
        "plt.figure(figsize=(10,6))\n",
        "\n",
        "ax = sns.barplot(x='PRODUCTLINE',y='SALES',data=result,hue='PRODUCTLINE',palette='inferno',  # barplot\n",
        "                 edgecolor='black',dodge=False, width= 0.4)\n",
        "ax2 = plt.twinx()\n",
        "sns.lineplot(x='PRODUCTLINE',y='MSRP',data=result,ax=ax2,errorbar=None,color= 'b')  # lineplot\n",
        "\n",
        "tb = ['3.91M','1.16M','975K','714K','226K','1.12M','1.90M']\n",
        "ax.bar_label(ax.containers[0], labels=tb, padding=3) # labelling the first bar with a distance of 3 from the bar\n",
        "ax.bar_label(ax.containers[1], labels=tb, padding=3)\n",
        "ax.bar_label(ax.containers[2], labels=tb, padding=3)\n",
        "ax.bar_label(ax.containers[3], labels=tb, padding=3)\n",
        "ax.bar_label(ax.containers[4], labels=tb, padding=3)\n",
        "ax.bar_label(ax.containers[5], labels=tb, padding=3)\n",
        "ax.bar_label(ax.containers[6], labels=tb, padding=3)\n",
        "\n",
        "sns.set_style('white')  # background\n",
        "plt.title(\"PRODUCTS SOLD Vs SALES / MSRP\") # add title\n",
        "ax.set(xlabel='PRODUCTS')\n",
        "plt.show()"
      ],
      "metadata": {
        "id": "H8KxExpHqm9A"
      },
      "execution_count": null,
      "outputs": []
    },
    {
      "cell_type": "markdown",
      "source": [
        "Observations:\n",
        "\n",
        "The depicted graph reveals a clear trend wherein products with lower prices enjoyed higher sales, contrasting with products commanding higher prices, which exhibited lower popularity.\n",
        "\n",
        "The inverse relationship between product price and popularity suggests that affordability plays a significant role in consumer preferences, influencing the purchasing patterns evident in the data."
      ],
      "metadata": {
        "id": "0HSKhHPXqzCb"
      }
    },
    {
      "cell_type": "markdown",
      "source": [
        "#Q5: Who was the top customer?"
      ],
      "metadata": {
        "id": "BA6gO1OerIT6"
      }
    },
    {
      "cell_type": "code",
      "source": [
        "top_customer = data.groupby(['CUSTOMERNAME']).sum().sort_values('SALES', ascending = False).head(5)\n",
        "top_customer = top_customer[['SALES']].round(3)\n",
        "top_customer.reset_index(inplace = True)\n",
        "top_customer.head()"
      ],
      "metadata": {
        "id": "_Rp9iiVprN-G"
      },
      "execution_count": null,
      "outputs": []
    },
    {
      "cell_type": "code",
      "source": [
        "plt.figure(figsize=(8,6))\n",
        "\n",
        "# main plotting of the bar chart\n",
        "z= sns.barplot(x='CUSTOMERNAME',y='SALES',data=top_customer,hue='CUSTOMERNAME',palette='icefire',\n",
        "               edgecolor='black', dodge=False, width= 0.3)\n",
        "sns.set_style('whitegrid')\n",
        "\n",
        "plt.title(\"TOP 5 CUSTOMERS\") # add title\n",
        "z.set(xlabel='CUSTOMERS', ylabel='SALES')\n",
        "\n",
        "# to add labels to each bar in the bar chart\n",
        "tb = ['912K','654K','200K','197K','180K']\n",
        "z.bar_label(z.containers[0], labels=tb, padding=3) # labelling the first bar with a distance of 3 from the bar\n",
        "z.bar_label(z.containers[1], labels=tb, padding=3)\n",
        "z.bar_label(z.containers[2], labels=tb, padding=3)\n",
        "z.bar_label(z.containers[3], labels=tb, padding=3)\n",
        "z.bar_label(z.containers[4], labels=tb, padding=3)\n",
        "# setting the ticks on both axis\n",
        "plt.xticks(rotation=65)\n",
        "z.set_yticklabels([\"0\",\"200K\",\"400K\",\"600K\",\"800K\"])\n",
        "\n",
        "# adjust the legend size\n",
        "plt.legend(prop={'size': 9})\n",
        "plt.legend(loc='upper right')\n",
        "plt.show()"
      ],
      "metadata": {
        "id": "kDINJ7vfvWhZ"
      },
      "execution_count": null,
      "outputs": []
    },
    {
      "cell_type": "markdown",
      "source": [
        "Observations:\n",
        "\n",
        "Evidently, the Euro Shopping Channel stands out as the top customer, consistently making the most significant number of product purchases.\n",
        "\n",
        "The data underscores the notable preference and substantial buying activity from the Euro Shopping Channel, making it a key contributor to the overall sales figures."
      ],
      "metadata": {
        "id": "hcSYDLJ2vj8O"
      }
    },
    {
      "cell_type": "markdown",
      "source": [
        "#Q6: Which country has the best sales?"
      ],
      "metadata": {
        "id": "Dkt3OFLpvx7t"
      }
    },
    {
      "cell_type": "code",
      "source": [
        "country = data.groupby(['COUNTRY'])['SALES'].sum().reset_index()\n",
        "# country\n",
        "short_form = ['AUS','AUT','BEL','CAN','DNK','FIN','FRA','DEU','IRL','ITA','JPN','NOR','PHL','SGP','ESP','SWE','CHE','GBR','USA']\n",
        "country['iso_alpha'] = short_form\n",
        "country"
      ],
      "metadata": {
        "id": "lUlQSK_ov0_A"
      },
      "execution_count": null,
      "outputs": []
    },
    {
      "cell_type": "code",
      "source": [
        "# Set the width and height of the figure\n",
        "plt.figure(figsize=(8,6))\n",
        "\n",
        "# Choropleth map using Plotly\n",
        "fig = px.choropleth(country,locations = 'iso_alpha', color = \"SALES\", scope = \"world\", hover_name = \"COUNTRY\")\n",
        "\n",
        "# updating the Map by adding the title\n",
        "fig.update_layout(\n",
        "    title=dict(\n",
        "        text=\"Countries according to their Sales \",\n",
        "        xanchor='center',\n",
        "        x=0.5,\n",
        "        yref='paper',\n",
        "        yanchor='bottom',\n",
        "        y=0.9,\n",
        "        pad={'b': 60}\n",
        "    ),\n",
        "\n",
        ")\n",
        "fig.show()"
      ],
      "metadata": {
        "id": "fxnZ4zZwwYRg"
      },
      "execution_count": null,
      "outputs": []
    },
    {
      "cell_type": "markdown",
      "source": [
        "Observations:\n",
        "\n",
        "1.The data highlights that the United States achieved the highest sales globally, establishing itself as the top-performing market.\n",
        "\n",
        "2.Following closely, Spain and France secured the second and third positions, respectively, in terms of sales performance on the international scale.\n",
        "\n",
        "3.These observations emphasize the strong market presence of the USA, with Spain and France demonstrating commendable sales performance in the global context."
      ],
      "metadata": {
        "id": "CtmETJZGwnvN"
      }
    },
    {
      "cell_type": "markdown",
      "source": [
        "#Q7: Which city has the best sales? Why?"
      ],
      "metadata": {
        "id": "Oy4-39nPxCmD"
      }
    },
    {
      "cell_type": "code",
      "source": [
        "cities = data.groupby(['CITY'])['SALES'].sum().reset_index()\n",
        "cities"
      ],
      "metadata": {
        "id": "4S2EkfFzxDgu"
      },
      "execution_count": null,
      "outputs": []
    },
    {
      "cell_type": "code",
      "source": [
        "cities = pd.read_csv('/content/cities.csv', encoding=('ISO-8859-1'),index_col=0)\n",
        "cities       # Country names, latitudes, and Longitudes were added."
      ],
      "metadata": {
        "id": "Oygu1dhRxeF_"
      },
      "execution_count": null,
      "outputs": []
    },
    {
      "cell_type": "code",
      "source": [
        "# Set the width and height of the figure\n",
        "plt.figure(figsize=(16,16))\n",
        "\n",
        "# Plotting Scatter map using Plotly\n",
        "fig = px.scatter_geo(cities, lat='latitude', lon='longitude', color='iso_alpha',\n",
        "                     hover_name='CITY', size='SALES',\n",
        "                    )\n",
        "\n",
        "# Adding title and centering it\n",
        "fig.update_layout(\n",
        "    title=dict(\n",
        "        text=\"Cities according to their Sales \",\n",
        "        xanchor='center',\n",
        "        x=0.5,\n",
        "        yref='paper',\n",
        "        yanchor='bottom',\n",
        "        y=0.9,\n",
        "        pad={'b': 60}\n",
        "    ),\n",
        "\n",
        ")\n",
        "fig.show()"
      ],
      "metadata": {
        "id": "eLIll3Dvx2B2"
      },
      "execution_count": null,
      "outputs": []
    },
    {
      "cell_type": "markdown",
      "source": [
        "Observations:\n",
        "\n",
        "1.Clearly, the City of Madrid emerges as the global leader with the highest sales, showcasing a remarkable performance in the dataset.\n",
        "\n",
        "2.Following suit, San Rafael and New York City secure the second and third positions, respectively, underscoring their noteworthy contributions to the overall sales figures on a global scale.\n",
        "\n",
        "3.These observations highlight the standout sales achievements of Madrid, San Rafael, and New York City in the dataset."
      ],
      "metadata": {
        "id": "LMvFnRL0zl39"
      }
    }
  ]
}